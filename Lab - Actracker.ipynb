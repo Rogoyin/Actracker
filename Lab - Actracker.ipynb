{
 "cells": [
  {
   "cell_type": "code",
   "execution_count": 1,
   "metadata": {},
   "outputs": [
    {
     "ename": "SystemExit",
     "evalue": "",
     "output_type": "error",
     "traceback": [
      "An exception has occurred, use %tb to see the full traceback.\n",
      "\u001b[1;31mSystemExit\u001b[0m\n"
     ]
    },
    {
     "name": "stderr",
     "output_type": "stream",
     "text": [
      "C:\\Users\\tomas\\AppData\\Local\\Packages\\PythonSoftwareFoundation.Python.3.11_qbz5n2kfra8p0\\LocalCache\\local-packages\\Python311\\site-packages\\IPython\\core\\interactiveshell.py:3585: UserWarning: To exit: use 'exit', 'quit', or Ctrl-D.\n",
      "  warn(\"To exit: use 'exit', 'quit', or Ctrl-D.\", stacklevel=1)\n"
     ]
    }
   ],
   "source": [
    "import tkinter as tk\n",
    "import datetime as dt\n",
    "import sys\n",
    "\n",
    "# Crear la ventana\n",
    "Window = tk.Tk()\n",
    "\n",
    "# Registrar el tiempo de inicio\n",
    "Start_Time = dt.datetime.now()\n",
    "\n",
    "def Check_Time(Window, Start, Seconds):\n",
    "    if (dt.datetime.now() - Start).total_seconds() > Seconds:\n",
    "        Window.destroy()\n",
    "        sys.exit()\n",
    "    else:\n",
    "        Window.after(2000, Check_Time, Window, Start, Seconds)\n",
    "\n",
    "# Iniciar la verificación del tiempo\n",
    "Check_Time(Window, Start_Time, 10)\n",
    "\n",
    "# Ejecutar el bucle principal de la ventana\n",
    "Window.mainloop()\n"
   ]
  },
  {
   "cell_type": "code",
   "execution_count": null,
   "metadata": {},
   "outputs": [],
   "source": []
  }
 ],
 "metadata": {
  "kernelspec": {
   "display_name": "Python 3",
   "language": "python",
   "name": "python3"
  },
  "language_info": {
   "codemirror_mode": {
    "name": "ipython",
    "version": 3
   },
   "file_extension": ".py",
   "mimetype": "text/x-python",
   "name": "python",
   "nbconvert_exporter": "python",
   "pygments_lexer": "ipython3",
   "version": "3.11.9"
  }
 },
 "nbformat": 4,
 "nbformat_minor": 2
}
