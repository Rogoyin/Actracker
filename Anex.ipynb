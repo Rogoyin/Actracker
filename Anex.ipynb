{
 "cells": [
  {
   "cell_type": "code",
   "execution_count": 1,
   "metadata": {},
   "outputs": [],
   "source": [
    "import pandas as pd\n",
    "import datetime as dt \n",
    "import matplotlib.pyplot as plt\n",
    "from pathlib import Path\n",
    "import os\n",
    "import re"
   ]
  },
  {
   "cell_type": "code",
   "execution_count": 2,
   "metadata": {},
   "outputs": [],
   "source": [
    "# Path del código.\n",
    "CODE_PATH = Path(__file__).parent if '__file__' in globals() else Path(os.getcwd())\n",
    "\n",
    "# Path del excel.\n",
    "EXCEL_PATH = CODE_PATH / 'Periods.xlsx'"
   ]
  },
  {
   "cell_type": "code",
   "execution_count": 3,
   "metadata": {},
   "outputs": [],
   "source": [
    "def Make_Day_Column(df: pd.DataFrame, Datetime_Column: str, Day_Column_Name: str = 'Día') -> pd.DataFrame:\n",
    "\n",
    "    \"\"\"\n",
    "    Adds a new column with the day extracted from the specified datetime column.\n",
    "    The new column is placed as the first column of the DataFrame.\n",
    "\n",
    "    Args:\n",
    "    df (pd.DataFrame): The DataFrame containing the data.\n",
    "    Datetime_Column (str): The column name that contains datetime values.\n",
    "    Day_Column_Name (str): The name of the new column that will contain the day values.\n",
    "\n",
    "    Returns:\n",
    "    pd.DataFrame: The modified DataFrame with the new day column as the first column.\n",
    "\n",
    "    \"\"\"\n",
    "    \n",
    "    Days = [] \n",
    "\n",
    "    for Index, Row in df.iterrows():\n",
    "        Day_Value = re.search(r'\\d{4}-\\d{2}-\\d{2}', str(Row[Datetime_Column]))\n",
    "        Days.append(Day_Value.group() if Day_Value else None)\n",
    "    \n",
    "    df[Day_Column_Name] = Days\n",
    "    Columns_Order = [Day_Column_Name] + [Column for Column in df.columns if Column != Day_Column_Name]\n",
    "    df = df[Columns_Order]\n",
    "\n",
    "    return df"
   ]
  },
  {
   "cell_type": "code",
   "execution_count": 4,
   "metadata": {},
   "outputs": [],
   "source": [
    "def Make_Interval(df: pd.DataFrame, Start_Column: str, End_Column: str, \n",
    "                  Interval_Column_Name: str = 'Intervalo') -> pd.DataFrame:\n",
    "    \n",
    "    Intervals = [] \n",
    "\n",
    "    for Index, Row in df.iterrows():\n",
    "        Start_Value = re.search(r'\\d{2}:\\d{2}', str(Row[Start_Column]))\n",
    "        End_Value = re.search(r'\\d{2}:\\d{2}', str(Row[End_Column]))\n",
    "        Intervals.append(f'{Start_Value.group()} - {End_Value.group()}' if Start_Value else None)\n",
    "    \n",
    "    df[Interval_Column_Name] = Intervals\n",
    "    df = df.drop(columns=['Inicio', 'Final'])\n",
    "    Columns_Order = ['Día'] + [Interval_Column_Name] + [Column for Column in df.columns if Column not in ['Día', Interval_Column_Name]]\n",
    "    df = df[Columns_Order]\n",
    "\n",
    "    return df"
   ]
  },
  {
   "cell_type": "code",
   "execution_count": 5,
   "metadata": {},
   "outputs": [],
   "source": [
    "def Make_Categories(df: pd.DataFrame, Task_Column: str, \n",
    "                    Categories_Column_Name: str = 'Categoría',\n",
    "                    Tasks_Column_Name: str = 'Tarea') -> pd.DataFrame:\n",
    "    \n",
    "    \"\"\"\n",
    "    Splits a column of tasks into two parts: category and task. The category is extracted as the \n",
    "    text before the first period, and the task is the text after the first period, including spaces.\n",
    "\n",
    "    Args:\n",
    "    df (pd.DataFrame): The DataFrame containing the data.\n",
    "    Task_Column (str): The column name that contains task descriptions.\n",
    "    Categories_Column_Name (str): The name of the new column for categories. Default is 'Categoría'.\n",
    "    Tasks_Column_Name (str): The name of the new column for tasks. Default is 'Tarea'.\n",
    "\n",
    "    Returns:\n",
    "    pd.DataFrame: The modified DataFrame with the new categories and tasks columns.\n",
    "\n",
    "    \"\"\"\n",
    "    \n",
    "    Categories = []  \n",
    "    Tasks = []       \n",
    "\n",
    "    for Index, Row in df.iterrows():\n",
    "        Category = re.search(r'^[^.]+', str(Row[Task_Column]))  # Match everything before the first period.\n",
    "        Categories.append(Category.group().strip() if Category else None)\n",
    "\n",
    "        Task = re.search(r'(?<=\\.).+', str(Row[Task_Column]))  # Match everything after the first period.\n",
    "        Tasks.append(Task.group().strip() if Task else None)\n",
    "    \n",
    "    df[Categories_Column_Name], df[Tasks_Column_Name] = Categories, Tasks\n",
    "    \n",
    "    df = df.drop(columns=['Plan_Previsto', 'Explicación'])\n",
    "    \n",
    "    Columns_Order = ['Día', 'Intervalo'] + [Categories_Column_Name, Tasks_Column_Name] + [Column for Column in df.columns if Column not in ['Día', 'Intervalo', Categories_Column_Name, Tasks_Column_Name]]\n",
    "    df = df[Columns_Order]\n",
    "\n",
    "    return df"
   ]
  },
  {
   "cell_type": "code",
   "execution_count": 6,
   "metadata": {},
   "outputs": [],
   "source": [
    "def Make_Block_Bar_Plot(df, Column, Lenght_Interval = 10, Y_Axis = 'Horas'):\n",
    "\n",
    "    # In Blocks.\n",
    "    Timespent_By_Category = df[Column].value_counts()\n",
    "\n",
    "    if Y_Axis != 'Bloques':\n",
    "        # In Minutes.\n",
    "        Timespent_By_Category = Timespent_By_Category * Lenght_Interval\n",
    "\n",
    "        if Y_Axis == 'Horas':\n",
    "            # In Hours.\n",
    "            Timespent_By_Category = Timespent_By_Category / 60\n",
    "\n",
    "\n",
    "    # Crear la figura y los ejes.\n",
    "    Figure, Graphic_1 = plt.subplots(figsize=(10, 6))\n",
    "\n",
    "    # Dibujar el gráfico de barras.\n",
    "    Bars = Graphic_1.bar(Timespent_By_Category.index, Timespent_By_Category.values, width=0.8)\n",
    "\n",
    "    # Agregar etiquetas y título.\n",
    "    Graphic_1.set_ylabel(Y_Axis)\n",
    "\n",
    "    # Convertir las horas decimales a horas y redondear los minutos al múltiplo más cercano de 10.\n",
    "    Labels = [f'{int(Value)}:{round((Value % 1) * 60 / 10) * 10:02d}' for Value in Timespent_By_Category.values]\n",
    "    \n",
    "    # Agregar las etiquetas de horas y minutos sobre las barras.\n",
    "    Graphic_1.bar_label(Graphic_1.containers[0], labels=Labels, fontsize=8)\n",
    "\n",
    "    # Mostrar el gráfico.\n",
    "    plt.show()"
   ]
  },
  {
   "cell_type": "code",
   "execution_count": 7,
   "metadata": {},
   "outputs": [],
   "source": [
    "def Filter_And_Plot_By_Date(df: pd.DataFrame, Date_Column: str, Start_Date: str, End_Date: str, \n",
    "                            Plot_Column: str, Lenght_Interval: int = 10, Y_Axis: str = 'Horas') -> None:\n",
    "    \n",
    "    \"\"\"\n",
    "    Filters the DataFrame between two dates and generates a bar plot using the Make_Block_Bar_Plot function.\n",
    "\n",
    "    Args:\n",
    "    df (pd.DataFrame): The input DataFrame.\n",
    "    Date_Column (str): The name of the column containing the dates.\n",
    "    Start_Date (str): The start date (inclusive) in 'YYYY-MM-DD' format.\n",
    "    End_Date (str): The end date (inclusive) in 'YYYY-MM-DD' format.\n",
    "    Plot_Column (str): The column for which the block-based statistics are to be plotted.\n",
    "    Lenght_Interval (int): The length of each block interval (default is 10).\n",
    "    Y_Axis (str): The Y-axis label, defaults to 'Horas'. Could be 'Minutos' or 'Bloques'.\n",
    "\n",
    "    \"\"\"\n",
    "\n",
    "    # Convertir la columna de fecha a formato datetime si no lo está.\n",
    "    df[Date_Column] = pd.to_datetime(df[Date_Column])\n",
    "\n",
    "    # Filtrar el DataFrame entre las dos fechas.\n",
    "    df = df[(df[Date_Column] >= Start_Date) & (df[Date_Column] <= End_Date)]\n",
    "\n",
    "    # Llamar a la función para generar el gráfico de barras.\n",
    "    Make_Block_Bar_Plot(df, Plot_Column, Lenght_Interval, Y_Axis)"
   ]
  },
  {
   "cell_type": "code",
   "execution_count": 8,
   "metadata": {},
   "outputs": [],
   "source": [
    "def Plot_Time_Blocks(df, Start_Day, End_Day):\n",
    "    Blocks = Make_Day_Column(df, 'Inicio')\n",
    "    Blocks = Make_Day_Column(Blocks, 'Inicio')\n",
    "    Blocks = Make_Interval(Blocks, 'Inicio', 'Final')\n",
    "    Blocks = Make_Categories(Blocks, 'Plan_Previsto')\n",
    "    Filter_And_Plot_By_Date(Blocks, 'Día', Start_Day, End_Day, 'Categoría')"
   ]
  },
  {
   "cell_type": "code",
   "execution_count": 9,
   "metadata": {},
   "outputs": [],
   "source": [
    "def Get_Time_Blocks(df, Period = 'Week', Start_Day = False, End_Day = False):\n",
    "\n",
    "    Year = dt.datetime.now().year\n",
    "    Month = dt.datetime.now().month\n",
    "    Weekday = dt.datetime.now().weekday()\n",
    "    Today = dt.datetime.now().date()\n",
    "\n",
    "    First_Day_Year = (Today - dt.timedelta(days = Year)).strftime('%Y-%m-%d') \n",
    "    First_Day_Month = (Today - dt.timedelta(days = Month)).strftime('%Y-%m-%d') \n",
    "    First_Day_Week = (Today - dt.timedelta(days = Weekday)).strftime('%Y-%m-%d') \n",
    "\n",
    "    if isinstance(Period, int):\n",
    "        First_Day = (Today - dt.timedelta(days = Period)).strftime('%Y-%m-%d')\n",
    "        \n",
    "    Today = Today.strftime('%Y-%m-%d') \n",
    "\n",
    "    if Period == 'Year':\n",
    "        print('Inicio:', First_Day_Year)\n",
    "        print('Final:', Today)\n",
    "        Plot_Time_Blocks(df, First_Day_Year, Today)\n",
    "    elif Period == 'Month':\n",
    "        print('Inicio:', First_Day_Month)\n",
    "        print('Final:', Today)\n",
    "        Plot_Time_Blocks(df, First_Day_Month, Today)\n",
    "    elif Period == 'Week':\n",
    "        print('Inicio:', First_Day_Week)\n",
    "        print('Final:', Today)\n",
    "        Plot_Time_Blocks(df, First_Day_Week, Today)\n",
    "    elif Period == 'Today':\n",
    "        print('Inicio:', Today)\n",
    "        print('Final:', Today)\n",
    "        Plot_Time_Blocks(df, Today, Today)\n",
    "    elif isinstance(Period, int):\n",
    "        print('Inicio:', First_Day)\n",
    "        print('Final:', Today)\n",
    "        Plot_Time_Blocks(df, First_Day, Today)\n",
    "    elif Period == 'Period':\n",
    "        print('Inicio:', Start_Day)\n",
    "        print('Final:', End_Day)\n",
    "        Plot_Time_Blocks(df, Start_Day, End_Day)\n",
    "    else:\n",
    "        raise KeyError(f\"Ingresá: 'Year', 'Month', 'Week' o 'Today'\")"
   ]
  },
  {
   "cell_type": "code",
   "execution_count": 10,
   "metadata": {},
   "outputs": [],
   "source": [
    "# Cargar Periods.xlsx\n",
    "Blocks = pd.read_excel(EXCEL_PATH)"
   ]
  },
  {
   "cell_type": "code",
   "execution_count": 11,
   "metadata": {},
   "outputs": [],
   "source": [
    "Period = 'Today'\n",
    "Start_Day = False\n",
    "End_Day = False"
   ]
  },
  {
   "cell_type": "code",
   "execution_count": 12,
   "metadata": {},
   "outputs": [
    {
     "name": "stdout",
     "output_type": "stream",
     "text": [
      "Inicio: 2024-10-12\n",
      "Final: 2024-10-12\n"
     ]
    },
    {
     "data": {
      "image/png": "[encoded data removed]",
      "text/plain": [
       "<Figure size 1000x600 with 1 Axes>"
      ]
     },
     "metadata": {},
     "output_type": "display_data"
    }
   ],
   "source": [
    "# Plotear.\n",
    "Get_Time_Blocks(Blocks, Period = Period, Start_Day = Start_Day, End_Day = End_Day)"
   ]
  },
  {
   "cell_type": "code",
   "execution_count": 13,
   "metadata": {},
   "outputs": [],
   "source": [
    "# No contabiliza bien: solo contabiliza los planes, no la realidad.\n",
    "# Gráficos para las tareas en sí y no las categorías.\n",
    "\n",
    "# Guardar el periods en donde se quiera y entre los tiempos que se quieran. \n",
    "# Borrar datos de ciertos períodos.\n",
    "# Promedios.\n",
    "# Poner fechas a los gráficos. \n",
    "# Categorías pero la evolución en el tiempo.\n",
    "# Pasar funciones a otro archivo.\n",
    "# Que puedas poner categorías y te pregunte la categoría y la acción específica. Incluso un \"Detalle\".\n",
    "# Que puedas definir tus categorías personalizadas, así como las subcategorías.\n",
    "# Que no se guarden los períodos que no se pone nada. O te pregunte si querés agregarlos en un cartel,\n",
    "# poniendo qué hiciste. Que permita seleccionar de a bloques \"Todos tal cosa\"."
   ]
  }
 ],
 "metadata": {
  "kernelspec": {
   "display_name": "Python 3",
   "language": "python",
   "name": "python3"
  },
  "language_info": {
   "codemirror_mode": {
    "name": "ipython",
    "version": 3
   },
   "file_extension": ".py",
   "mimetype": "text/x-python",
   "name": "python",
   "nbconvert_exporter": "python",
   "pygments_lexer": "ipython3",
   "version": "3.12.6"
  }
 },
 "nbformat": 4,
 "nbformat_minor": 2
}
